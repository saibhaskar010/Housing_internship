{
 "cells": [
  {
   "cell_type": "markdown",
   "metadata": {},
   "source": [
    "# 1. Importing Packages "
   ]
  },
  {
   "cell_type": "code",
   "execution_count": 6,
   "metadata": {},
   "outputs": [],
   "source": [
    "import pandas as pd\n",
    "import numpy as np\n",
    "from sklearn.model_selection import train_test_split\n",
    "from sklearn.metrics import accuracy_score\n",
    "from sklearn import svm\n",
    "import matplotlib.pyplot as plt\n",
    "from sklearn import model_selection\n",
    "from sklearn.linear_model import LogisticRegression,LinearRegression\n",
    "from sklearn.discriminant_analysis import LinearDiscriminantAnalysis\n",
    "from sklearn.svm import SVC\n",
    "from sklearn.svm import SVR\n",
    "from sklearn import linear_model\n"
   ]
  },
  {
   "cell_type": "markdown",
   "metadata": {},
   "source": [
    "# Task 1 - 2. Test data"
   ]
  },
  {
   "cell_type": "markdown",
   "metadata": {},
   "source": [
    "Datasets have been taken from data.gov.in as instructed ( https://data.gov.in/catalog/housing-price-index-india )"
   ]
  },
  {
   "cell_type": "code",
   "execution_count": 7,
   "metadata": {},
   "outputs": [
    {
     "data": {
      "text/html": [
       "<div>\n",
       "<style>\n",
       "    .dataframe thead tr:only-child th {\n",
       "        text-align: right;\n",
       "    }\n",
       "\n",
       "    .dataframe thead th {\n",
       "        text-align: left;\n",
       "    }\n",
       "\n",
       "    .dataframe tbody tr th {\n",
       "        vertical-align: top;\n",
       "    }\n",
       "</style>\n",
       "<table border=\"1\" class=\"dataframe\">\n",
       "  <thead>\n",
       "    <tr style=\"text-align: right;\">\n",
       "      <th></th>\n",
       "      <th>Particulars</th>\n",
       "      <th>12-2010</th>\n",
       "      <th>03-2011</th>\n",
       "      <th>06-2011</th>\n",
       "      <th>09-2011</th>\n",
       "      <th>12-2011</th>\n",
       "      <th>03-2012</th>\n",
       "      <th>06-2012</th>\n",
       "      <th>09-2012</th>\n",
       "      <th>12-2012</th>\n",
       "      <th>03-2013</th>\n",
       "    </tr>\n",
       "  </thead>\n",
       "  <tbody>\n",
       "    <tr>\n",
       "      <th>0</th>\n",
       "      <td>All India</td>\n",
       "      <td>132.6</td>\n",
       "      <td>141.7</td>\n",
       "      <td>152.0</td>\n",
       "      <td>157.8</td>\n",
       "      <td>164.1</td>\n",
       "      <td>176.9</td>\n",
       "      <td>188.6</td>\n",
       "      <td>194.3</td>\n",
       "      <td>206.8</td>\n",
       "      <td>211.2</td>\n",
       "    </tr>\n",
       "    <tr>\n",
       "      <th>1</th>\n",
       "      <td>Ahmedabad</td>\n",
       "      <td>128.8</td>\n",
       "      <td>128.7</td>\n",
       "      <td>152.3</td>\n",
       "      <td>162.8</td>\n",
       "      <td>171.8</td>\n",
       "      <td>177.2</td>\n",
       "      <td>176.6</td>\n",
       "      <td>183.4</td>\n",
       "      <td>187.8</td>\n",
       "      <td>193.5</td>\n",
       "    </tr>\n",
       "    <tr>\n",
       "      <th>2</th>\n",
       "      <td>Bangalore</td>\n",
       "      <td>104.7</td>\n",
       "      <td>113.6</td>\n",
       "      <td>116.9</td>\n",
       "      <td>116.0</td>\n",
       "      <td>146.1</td>\n",
       "      <td>140.6</td>\n",
       "      <td>140.2</td>\n",
       "      <td>143.0</td>\n",
       "      <td>147.9</td>\n",
       "      <td>148.3</td>\n",
       "    </tr>\n",
       "    <tr>\n",
       "      <th>3</th>\n",
       "      <td>Chennai</td>\n",
       "      <td>118.4</td>\n",
       "      <td>106.8</td>\n",
       "      <td>106.3</td>\n",
       "      <td>113.9</td>\n",
       "      <td>120.3</td>\n",
       "      <td>117.0</td>\n",
       "      <td>133.9</td>\n",
       "      <td>129.5</td>\n",
       "      <td>149.2</td>\n",
       "      <td>148.0</td>\n",
       "    </tr>\n",
       "    <tr>\n",
       "      <th>4</th>\n",
       "      <td>Delhi</td>\n",
       "      <td>111.4</td>\n",
       "      <td>135.2</td>\n",
       "      <td>152.8</td>\n",
       "      <td>153.0</td>\n",
       "      <td>168.6</td>\n",
       "      <td>195.3</td>\n",
       "      <td>217.3</td>\n",
       "      <td>225.2</td>\n",
       "      <td>247.8</td>\n",
       "      <td>259.2</td>\n",
       "    </tr>\n",
       "  </tbody>\n",
       "</table>\n",
       "</div>"
      ],
      "text/plain": [
       "  Particulars   12-2010   03-2011   06-2011   09-2011   12-2011   03-2012  \\\n",
       "0   All India     132.6     141.7     152.0     157.8     164.1     176.9   \n",
       "1   Ahmedabad     128.8     128.7     152.3     162.8     171.8     177.2   \n",
       "2   Bangalore     104.7     113.6     116.9     116.0     146.1     140.6   \n",
       "3     Chennai     118.4     106.8     106.3     113.9     120.3     117.0   \n",
       "4       Delhi     111.4     135.2     152.8     153.0     168.6     195.3   \n",
       "\n",
       "    06-2012   09-2012   12-2012   03-2013  \n",
       "0     188.6     194.3     206.8     211.2  \n",
       "1     176.6     183.4     187.8     193.5  \n",
       "2     140.2     143.0     147.9     148.3  \n",
       "3     133.9     129.5     149.2     148.0  \n",
       "4     217.3     225.2     247.8     259.2  "
      ]
     },
     "execution_count": 7,
     "metadata": {},
     "output_type": "execute_result"
    }
   ],
   "source": [
    "tr=pd.read_csv(\"housing.csv\",delimiter=\",\")\n",
    "td=pd.read_csv(\"housing_test.csv\",delimiter=\",\")\n",
    "td.head()"
   ]
  },
  {
   "cell_type": "markdown",
   "metadata": {},
   "source": [
    "# 3.Train data "
   ]
  },
  {
   "cell_type": "code",
   "execution_count": 8,
   "metadata": {},
   "outputs": [
    {
     "data": {
      "text/html": [
       "<div>\n",
       "<style>\n",
       "    .dataframe thead tr:only-child th {\n",
       "        text-align: right;\n",
       "    }\n",
       "\n",
       "    .dataframe thead th {\n",
       "        text-align: left;\n",
       "    }\n",
       "\n",
       "    .dataframe tbody tr th {\n",
       "        vertical-align: top;\n",
       "    }\n",
       "</style>\n",
       "<table border=\"1\" class=\"dataframe\">\n",
       "  <thead>\n",
       "    <tr style=\"text-align: right;\">\n",
       "      <th></th>\n",
       "      <th>Particulars</th>\n",
       "      <th>06-2011</th>\n",
       "      <th>09-2011</th>\n",
       "      <th>12-2011</th>\n",
       "      <th>03-2012</th>\n",
       "      <th>06-2012</th>\n",
       "      <th>09-2012</th>\n",
       "      <th>12-2012</th>\n",
       "      <th>03-2013</th>\n",
       "      <th>06-2013</th>\n",
       "      <th>09-2013</th>\n",
       "    </tr>\n",
       "  </thead>\n",
       "  <tbody>\n",
       "    <tr>\n",
       "      <th>0</th>\n",
       "      <td>All India</td>\n",
       "      <td>116.0</td>\n",
       "      <td>119.4</td>\n",
       "      <td>125.5</td>\n",
       "      <td>134.1</td>\n",
       "      <td>142.6</td>\n",
       "      <td>147.1</td>\n",
       "      <td>157.0</td>\n",
       "      <td>160.8</td>\n",
       "      <td>162.3</td>\n",
       "      <td>169.2</td>\n",
       "    </tr>\n",
       "    <tr>\n",
       "      <th>1</th>\n",
       "      <td>Ahmedabad</td>\n",
       "      <td>121.3</td>\n",
       "      <td>130.4</td>\n",
       "      <td>137.1</td>\n",
       "      <td>141.0</td>\n",
       "      <td>140.8</td>\n",
       "      <td>146.4</td>\n",
       "      <td>150.6</td>\n",
       "      <td>155.0</td>\n",
       "      <td>161.9</td>\n",
       "      <td>171.7</td>\n",
       "    </tr>\n",
       "    <tr>\n",
       "      <th>2</th>\n",
       "      <td>Bangalore</td>\n",
       "      <td>110.7</td>\n",
       "      <td>107.8</td>\n",
       "      <td>138.6</td>\n",
       "      <td>133.3</td>\n",
       "      <td>133.3</td>\n",
       "      <td>136.6</td>\n",
       "      <td>141.2</td>\n",
       "      <td>141.9</td>\n",
       "      <td>142.3</td>\n",
       "      <td>150.4</td>\n",
       "    </tr>\n",
       "    <tr>\n",
       "      <th>3</th>\n",
       "      <td>Chennai</td>\n",
       "      <td>101.2</td>\n",
       "      <td>110.4</td>\n",
       "      <td>110.7</td>\n",
       "      <td>108.2</td>\n",
       "      <td>119.2</td>\n",
       "      <td>117.8</td>\n",
       "      <td>137.6</td>\n",
       "      <td>137.4</td>\n",
       "      <td>138.3</td>\n",
       "      <td>150.0</td>\n",
       "    </tr>\n",
       "    <tr>\n",
       "      <th>4</th>\n",
       "      <td>Delhi</td>\n",
       "      <td>126.8</td>\n",
       "      <td>124.8</td>\n",
       "      <td>136.7</td>\n",
       "      <td>158.2</td>\n",
       "      <td>177.3</td>\n",
       "      <td>183.2</td>\n",
       "      <td>200.7</td>\n",
       "      <td>213.1</td>\n",
       "      <td>214.8</td>\n",
       "      <td>215.7</td>\n",
       "    </tr>\n",
       "  </tbody>\n",
       "</table>\n",
       "</div>"
      ],
      "text/plain": [
       "  Particulars   06-2011   09-2011   12-2011   03-2012   06-2012   09-2012  \\\n",
       "0   All India     116.0     119.4     125.5     134.1     142.6     147.1   \n",
       "1   Ahmedabad     121.3     130.4     137.1     141.0     140.8     146.4   \n",
       "2   Bangalore     110.7     107.8     138.6     133.3     133.3     136.6   \n",
       "3     Chennai     101.2     110.4     110.7     108.2     119.2     117.8   \n",
       "4       Delhi     126.8     124.8     136.7     158.2     177.3     183.2   \n",
       "\n",
       "    12-2012   03-2013   06-2013   09-2013  \n",
       "0     157.0     160.8     162.3     169.2  \n",
       "1     150.6     155.0     161.9     171.7  \n",
       "2     141.2     141.9     142.3     150.4  \n",
       "3     137.6     137.4     138.3     150.0  \n",
       "4     200.7     213.1     214.8     215.7  "
      ]
     },
     "execution_count": 8,
     "metadata": {},
     "output_type": "execute_result"
    }
   ],
   "source": [
    "tr.head()"
   ]
  },
  {
   "cell_type": "markdown",
   "metadata": {},
   "source": [
    "# 4.Splitting Data and Visual Representation of Train Data"
   ]
  },
  {
   "cell_type": "markdown",
   "metadata": {},
   "source": [
    "Data is segregated into X and Y varibles for then X is plotted on the graph where different colours of lines indicate different cities and on X axis dates are represented as general numbers."
   ]
  },
  {
   "cell_type": "code",
   "execution_count": 9,
   "metadata": {},
   "outputs": [
    {
     "data": {
      "image/png": "[encoded data removed]",
      "text/plain": [
       "<matplotlib.figure.Figure at 0x1e55c3762b0>"
      ]
     },
     "metadata": {},
     "output_type": "display_data"
    }
   ],
   "source": [
    "l=tr.columns\n",
    "X=tr.iloc[:,1:11]\n",
    "Y=tr.iloc[:,10]\n",
    "X_test=td.iloc[:,1:11]\n",
    "Y_test=td.iloc[:,10]\n",
    "plt.plot(X)\n",
    "plt.xlabel('Index of Dates')\n",
    "plt.ylabel('Price per squarefoot')\n",
    "plt.show()"
   ]
  },
  {
   "cell_type": "markdown",
   "metadata": {},
   "source": [
    "# 5. Fitting Models and Predictions"
   ]
  },
  {
   "cell_type": "markdown",
   "metadata": {},
   "source": [
    "Generally, Regression models are used in Trend Forecasting and cases involving continous data.Here, three types of regression models are used and they are Linear Regression, Lasso and Ridge Regression."
   ]
  },
  {
   "cell_type": "code",
   "execution_count": 11,
   "metadata": {},
   "outputs": [
    {
     "data": {
      "text/plain": [
       "RidgeCV(alphas=(0.1, 1.0, 10.0), cv=None, fit_intercept=True, gcv_mode=None,\n",
       "    normalize=False, scoring=None, store_cv_values=False)"
      ]
     },
     "execution_count": 11,
     "metadata": {},
     "output_type": "execute_result"
    }
   ],
   "source": [
    "#Linear Regression\n",
    "model=LinearRegression()\n",
    "model.fit(X,Y)\n",
    "\n",
    "#Lasso\n",
    "reg = linear_model.Lasso(alpha = 3)\n",
    "reg.fit(X,Y)\n",
    "\n",
    "#Ridge Regression\n",
    "reg1 = linear_model.RidgeCV()\n",
    "reg1.fit(X,Y) \n"
   ]
  },
  {
   "cell_type": "code",
   "execution_count": 12,
   "metadata": {},
   "outputs": [
    {
     "name": "stdout",
     "output_type": "stream",
     "text": [
      "[ 213.129736    193.70199971  152.05606139  153.01443207  255.03580988\n",
      "  262.85017989  251.64740363]\n",
      "[ 210.66140084  193.20555444  149.24686093  149.07812265  257.16785885\n",
      "  256.59467943  247.74061535]\n",
      "[ 213.15870092  192.36610547  150.57053352  148.09987839  255.17186365\n",
      "  262.78227269  254.74056938]\n"
     ]
    }
   ],
   "source": [
    "#Linear Regression\n",
    "pred=model.predict(X_test)\n",
    "print(pred)\n",
    "\n",
    "#Lasso\n",
    "pre=reg.predict(X_test)\n",
    "print(pre)\n",
    "\n",
    "#Ridge Regression\n",
    "pr=reg1.predict(X_test)\n",
    "print(pr)\n"
   ]
  },
  {
   "cell_type": "code",
   "execution_count": 14,
   "metadata": {},
   "outputs": [
    {
     "data": {
      "text/plain": [
       "0    211.2\n",
       "1    193.5\n",
       "2    148.3\n",
       "3    148.0\n",
       "4    259.2\n",
       "5    258.6\n",
       "6    248.6\n",
       "Name:  03-2013, dtype: float64"
      ]
     },
     "execution_count": 14,
     "metadata": {},
     "output_type": "execute_result"
    }
   ],
   "source": [
    "#True Values\n",
    "Y_test"
   ]
  },
  {
   "cell_type": "markdown",
   "metadata": {},
   "source": [
    "Comparing True values and predictions we get to know that Lasso performs well in predicting the output and the reason behind this is that Lasso performs well in the case of lesser parameters and data when compared to other Regression Models.The Alpha paramter in the method helps in crossvalidation and it acts more like no of iterations to be performed."
   ]
  },
  {
   "cell_type": "markdown",
   "metadata": {},
   "source": [
    "# 6. Scatter plot  "
   ]
  },
  {
   "cell_type": "code",
   "execution_count": 15,
   "metadata": {},
   "outputs": [
    {
     "data": {
      "image/png": "[encoded data removed]",
      "text/plain": [
       "<matplotlib.figure.Figure at 0x1e55c64add8>"
      ]
     },
     "metadata": {},
     "output_type": "display_data"
    }
   ],
   "source": [
    "plt.scatter(Y_test,pre)\n",
    "plt.xlabel(\"true values\",color=\"blue\")\n",
    "plt.ylabel(\"predictions\",color=\"red\")\n",
    "plt.show()"
   ]
  },
  {
   "cell_type": "code",
   "execution_count": 17,
   "metadata": {},
   "outputs": [
    {
     "name": "stdout",
     "output_type": "stream",
     "text": [
      "[211.2, 193.5, 148.3, 148.0, 259.2, 258.6, 248.6]\n",
      "[210.6614008370963, 193.20555443888, 149.2468609270623, 149.07812264870407, 257.1678588479821, 256.59467943089163, 247.74061535383493]\n"
     ]
    }
   ],
   "source": [
    "# Converting predictions and expected values into list to perform the opreation provided in the Problem Statemnt \n",
    "test1=[]\n",
    "for i in Y_test:\n",
    "    test1.append(float(i))\n",
    "print(test1)\n",
    "p1=[]\n",
    "for i in pre:\n",
    "    p1.append(float(i))\n",
    "print(p1)"
   ]
  },
  {
   "cell_type": "markdown",
   "metadata": {},
   "source": [
    "# 7. Formulating the Normalized Distance and Score as per Problem Statement"
   ]
  },
  {
   "cell_type": "code",
   "execution_count": 18,
   "metadata": {},
   "outputs": [
    {
     "name": "stdout",
     "output_type": "stream",
     "text": [
      "Difference: [-0.5385991629036937, -0.29444556111999987, 0.9468609270622892, 1.078122648704067, -2.032141152017914, -2.0053205691083917, -0.8593846461650685]\n",
      "Deviation unadjusted: [0.0025501854304152164, 0.001521682486408268, 0.006384766871627034, 0.007284612491243695, 0.007840050740809854, 0.007754526562677461, 0.003456897209030847]\n"
     ]
    }
   ],
   "source": [
    "difference=[]\n",
    "\n",
    "# Normalized Distance from Expected Answer.\n",
    "dev=[]\n",
    "\n",
    "\n",
    "for i in range(0,len(p1)):\n",
    "    diff=p1[i]-test1[i]\n",
    "    difference.append(diff)\n",
    "    dev.append(abs(diff/test1[i]))\n",
    "print(\"Difference:\",difference)\n",
    "print(\"Deviation unadjusted:\",dev)"
   ]
  },
  {
   "cell_type": "code",
   "execution_count": 20,
   "metadata": {},
   "outputs": [
    {
     "name": "stdout",
     "output_type": "stream",
     "text": [
      "Deviation Adjusted: [0, 0, 0, 0, 0, 0, 0]\n",
      "scores list  : [1, 1, 1, 1, 1, 1, 1]\n"
     ]
    }
   ],
   "source": [
    "# Deviation after adjustments \n",
    "de_adj=[]\n",
    "\n",
    "#Indivual Scores\n",
    "sco=[]\n",
    "\n",
    "for i in range(0,len(p1)):\n",
    "    de_adj.append(max(dev[i]-0.1,0))\n",
    "for i in range(0,len(p1)):    \n",
    "    sco.append(max(1-de_adj[i],0))\n",
    "print(\"Deviation Adjusted:\",de_adj)\n",
    "print(\"scores list  :\",sco) "
   ]
  },
  {
   "cell_type": "code",
   "execution_count": 23,
   "metadata": {},
   "outputs": [
    {
     "name": "stdout",
     "output_type": "stream",
     "text": [
      "score: 10.0\n"
     ]
    }
   ],
   "source": [
    "# Calculating Score\n",
    " \n",
    "sum=0\n",
    "for i in range(0,len(p1)):\n",
    "    sum=sum+sco[i]\n",
    "avg=sum/len(p1)\n",
    "score=avg*10\n",
    "print(\"score:\",score)"
   ]
  },
  {
   "cell_type": "markdown",
   "metadata": {},
   "source": [
    "                            ------Completion of Task 1--------"
   ]
  },
  {
   "cell_type": "markdown",
   "metadata": {},
   "source": [
    "# Task 2 - 8. Input and Output as per Instructed Fomat."
   ]
  },
  {
   "cell_type": "markdown",
   "metadata": {},
   "source": [
    "In a file input_train.txt, input has been given in instrcuetd format with respective parameters and they are separated using Spaces."
   ]
  },
  {
   "cell_type": "code",
   "execution_count": 35,
   "metadata": {},
   "outputs": [],
   "source": [
    "# Accessing file to read the input\n",
    "file=open(\"input_train.txt\",\"r\")\n",
    "\n",
    "# creating and writing csv file to perform model fitting \n",
    "f1=open(\"inp.csv\",\"a\")\n",
    "\n",
    "f2=file.readlines()\n",
    "for line in f2:\n",
    "    str=line.replace(\"\\t\",\",\")\n",
    "    f1.write(str)\n",
    "f1.close()\n",
    "file.close()"
   ]
  },
  {
   "cell_type": "markdown",
   "metadata": {},
   "source": [
    "                                 Data provided in the form of text file and separated by spaces"
   ]
  },
  {
   "cell_type": "markdown",
   "metadata": {},
   "source": [
    "![Train Data](img/inp_train.png)"
   ]
  },
  {
   "cell_type": "code",
   "execution_count": 36,
   "metadata": {},
   "outputs": [],
   "source": [
    "# Reading data from csv file that has beenn built.\n",
    "data=pd.read_csv(\"inp.csv\",delimiter=\" \")"
   ]
  },
  {
   "cell_type": "code",
   "execution_count": 37,
   "metadata": {},
   "outputs": [],
   "source": [
    "#splitting data\n",
    "x=data.iloc[:,0:2]\n",
    "y=data.iloc[:,2]"
   ]
  },
  {
   "cell_type": "code",
   "execution_count": 38,
   "metadata": {},
   "outputs": [
    {
     "data": {
      "text/plain": [
       "Lasso(alpha=3, copy_X=True, fit_intercept=True, max_iter=1000,\n",
       "   normalize=False, positive=False, precompute=False, random_state=None,\n",
       "   selection='cyclic', tol=0.0001, warm_start=False)"
      ]
     },
     "execution_count": 38,
     "metadata": {},
     "output_type": "execute_result"
    }
   ],
   "source": [
    "reg = linear_model.Lasso(alpha = 3)\n",
    "reg.fit(x,y)"
   ]
  },
  {
   "cell_type": "code",
   "execution_count": 40,
   "metadata": {},
   "outputs": [],
   "source": [
    "# Accessing test data \n",
    "h=open(\"input_test.txt\",\"r\")\n",
    "\n",
    "#creating and writing test data into csv file\n",
    "h1=open(\"outp.csv\",\"a\")\n",
    "\n",
    "h2=h.readlines()\n",
    "for line in h2:\n",
    "    str=line.replace(\"\\t\",\",\")\n",
    "    h1.write(str)\n",
    "h1.close()\n",
    "h.close()\n",
    "test_data=pd.read_csv(\"outp.csv\",delimiter=\" \")\n"
   ]
  },
  {
   "cell_type": "code",
   "execution_count": 41,
   "metadata": {},
   "outputs": [],
   "source": [
    "x_test=test_data.iloc[:,0:2]\n",
    "y_test=test_data.iloc[:,2]"
   ]
  },
  {
   "cell_type": "code",
   "execution_count": 44,
   "metadata": {},
   "outputs": [
    {
     "name": "stdout",
     "output_type": "stream",
     "text": [
      "[ 122.40605586  126.94617744  126.44171949  136.53087857]\n"
     ]
    }
   ],
   "source": [
    "prediction=reg.predict(x_test)\n",
    "print(prediction)\n"
   ]
  },
  {
   "cell_type": "markdown",
   "metadata": {},
   "source": [
    "As the data taken is small, we achieve some deviation in this case when compared to Task 1 where dataset was enough large to perform predictions."
   ]
  },
  {
   "cell_type": "markdown",
   "metadata": {},
   "source": [
    "Finding scores and Deviation."
   ]
  },
  {
   "cell_type": "code",
   "execution_count": 51,
   "metadata": {},
   "outputs": [
    {
     "name": "stdout",
     "output_type": "stream",
     "text": [
      "Difference: [17.186055859137838, -15.733822556162721, -6.4982805100182048, 6.8208785670916825]\n",
      "Deviation unadjusted: [0.0081675028147221874, 0.0060231612430969193, 0.0064644549884539529, 0.0066254309318099485]\n",
      "Deviation Adjusted: [0, 0, 0, 0]\n",
      "scores list  : [1, 1, 1, 1]\n"
     ]
    }
   ],
   "source": [
    "difference1=[]\n",
    "dev1=[]\n",
    "d_adj1=[]\n",
    "for i in range(0,len(y_test)):\n",
    "    diff1=prediction[i]-y_test[i]\n",
    "    difference1.append(diff1)\n",
    "    dev1.append(abs(diff/y_test[i]))\n",
    "print(\"Difference:\",difference1)\n",
    "print(\"Deviation unadjusted:\",dev1)\n",
    "de_adj1=[]\n",
    "sco1=[]\n",
    "\n",
    "for i in range(0,len(y_test)):\n",
    "    de_adj1.append(max(dev1[i]-0.1,0))\n",
    "for i in range(0,len(y_test)):    \n",
    "    sco1.append(max(1-de_adj1[i],0))\n",
    "print(\"Deviation Adjusted:\",de_adj1)\n",
    "print(\"scores list  :\",sco1)    "
   ]
  },
  {
   "cell_type": "code",
   "execution_count": 53,
   "metadata": {},
   "outputs": [
    {
     "name": "stdout",
     "output_type": "stream",
     "text": [
      "score: 10.0\n"
     ]
    }
   ],
   "source": [
    "sum1=0\n",
    "for i in range(0,len(y_test)):\n",
    "    sum1=sum1+sco1[i]\n",
    "avg1=sum1/len(y_test)\n",
    "score1=avg1*10\n",
    "print(\"score:\",score1)"
   ]
  },
  {
   "cell_type": "markdown",
   "metadata": {},
   "source": [
    "                           --------Completion of Task-2--------"
   ]
  },
  {
   "cell_type": "code",
   "execution_count": null,
   "metadata": {},
   "outputs": [],
   "source": []
  }
 ],
 "metadata": {
  "kernelspec": {
   "display_name": "Python 3",
   "language": "python",
   "name": "python3"
  },
  "language_info": {
   "codemirror_mode": {
    "name": "ipython",
    "version": 3
   },
   "file_extension": ".py",
   "mimetype": "text/x-python",
   "name": "python",
   "nbconvert_exporter": "python",
   "pygments_lexer": "ipython3",
   "version": "3.6.2"
  }
 },
 "nbformat": 4,
 "nbformat_minor": 2
}
